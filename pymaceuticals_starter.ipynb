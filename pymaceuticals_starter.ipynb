{
 "cells": [
  {
   "cell_type": "code",
   "execution_count": 6,
   "metadata": {},
   "outputs": [
    {
     "name": "stdout",
     "output_type": "stream",
     "text": [
      "Pymaceuticals Inc - Squamous Cell Carcinoma (SCC) Study Drug Trials\n",
      "___________________________________________________________________\n",
      "\n",
      "Drug Name Hosts Tested\n",
      "_________ ____________\n",
      "Naftisol     25\n",
      "Infubinol    25\n",
      "Ramicane     25\n",
      "Placebo      25\n",
      "Zoniferol    25\n",
      "Capomulin    25\n",
      "Propriva     25\n",
      "Stelasyn     25\n",
      "Ketapril     25\n",
      "Ceftamin     25\n",
      "Name: Drug, dtype: int64\n",
      "______________________\n",
      "Trial Drug Count: 10\n",
      "Total Hosts Tested: 250\n",
      "\n",
      "Trial Start Conditions\n",
      "______________________\n",
      "Initial Tumor Volume (mm3) @ Time Point Zero: 45.00\n",
      "Time Point Test Interval (days): 5\n",
      "\n",
      "Trial End Conditions\n",
      "____________________\n",
      "Time Point Tests Per Drug Trial (Max Intervals): 10\n",
      "Trial Duration (Max Days): 45\n",
      "Minimum Final Tumor Volume (mm3): 22.05\n",
      "Mean Final Tumor Volume (mm3): 50.46\n",
      "Maximum Final Tumor Volume (mm3): 78.57\n",
      "\n",
      "Hosts Exceeding Maximum Number of 10 Interval Tests:\n",
      "HostID #Tests\n",
      "______ ______\n",
      "g989    13\n",
      "Name: Mouse ID, dtype: int64\n",
      "Host Tests Rejected\n",
      "\n",
      "Drug Trial Results\n",
      "__________________\n"
     ]
    },
    {
     "data": {
      "text/html": [
       "<div>\n",
       "<style scoped>\n",
       "    .dataframe tbody tr th:only-of-type {\n",
       "        vertical-align: middle;\n",
       "    }\n",
       "\n",
       "    .dataframe tbody tr th {\n",
       "        vertical-align: top;\n",
       "    }\n",
       "\n",
       "    .dataframe thead th {\n",
       "        text-align: right;\n",
       "    }\n",
       "</style>\n",
       "<table border=\"1\" class=\"dataframe\">\n",
       "  <thead>\n",
       "    <tr style=\"text-align: right;\">\n",
       "      <th></th>\n",
       "      <th>Mouse ID</th>\n",
       "      <th>Drug</th>\n",
       "      <th>Timepoint</th>\n",
       "      <th>Tumor Volume (mm3)</th>\n",
       "      <th>Metastatic Sites</th>\n",
       "    </tr>\n",
       "  </thead>\n",
       "  <tbody>\n",
       "    <tr>\n",
       "      <th>0</th>\n",
       "      <td>f234</td>\n",
       "      <td>Stelasyn</td>\n",
       "      <td>0</td>\n",
       "      <td>45.000000</td>\n",
       "      <td>0</td>\n",
       "    </tr>\n",
       "    <tr>\n",
       "      <th>1</th>\n",
       "      <td>f234</td>\n",
       "      <td>Stelasyn</td>\n",
       "      <td>5</td>\n",
       "      <td>47.313491</td>\n",
       "      <td>0</td>\n",
       "    </tr>\n",
       "    <tr>\n",
       "      <th>2</th>\n",
       "      <td>f234</td>\n",
       "      <td>Stelasyn</td>\n",
       "      <td>10</td>\n",
       "      <td>47.904324</td>\n",
       "      <td>0</td>\n",
       "    </tr>\n",
       "    <tr>\n",
       "      <th>3</th>\n",
       "      <td>f234</td>\n",
       "      <td>Stelasyn</td>\n",
       "      <td>15</td>\n",
       "      <td>48.735197</td>\n",
       "      <td>1</td>\n",
       "    </tr>\n",
       "    <tr>\n",
       "      <th>4</th>\n",
       "      <td>f234</td>\n",
       "      <td>Stelasyn</td>\n",
       "      <td>20</td>\n",
       "      <td>51.112713</td>\n",
       "      <td>2</td>\n",
       "    </tr>\n",
       "    <tr>\n",
       "      <th>5</th>\n",
       "      <td>f234</td>\n",
       "      <td>Stelasyn</td>\n",
       "      <td>25</td>\n",
       "      <td>52.178602</td>\n",
       "      <td>2</td>\n",
       "    </tr>\n",
       "    <tr>\n",
       "      <th>6</th>\n",
       "      <td>f234</td>\n",
       "      <td>Stelasyn</td>\n",
       "      <td>30</td>\n",
       "      <td>56.873817</td>\n",
       "      <td>2</td>\n",
       "    </tr>\n",
       "    <tr>\n",
       "      <th>7</th>\n",
       "      <td>f234</td>\n",
       "      <td>Stelasyn</td>\n",
       "      <td>35</td>\n",
       "      <td>57.748758</td>\n",
       "      <td>2</td>\n",
       "    </tr>\n",
       "    <tr>\n",
       "      <th>8</th>\n",
       "      <td>x402</td>\n",
       "      <td>Stelasyn</td>\n",
       "      <td>0</td>\n",
       "      <td>45.000000</td>\n",
       "      <td>0</td>\n",
       "    </tr>\n",
       "    <tr>\n",
       "      <th>9</th>\n",
       "      <td>x402</td>\n",
       "      <td>Stelasyn</td>\n",
       "      <td>5</td>\n",
       "      <td>46.327570</td>\n",
       "      <td>1</td>\n",
       "    </tr>\n",
       "    <tr>\n",
       "      <th>10</th>\n",
       "      <td>x402</td>\n",
       "      <td>Stelasyn</td>\n",
       "      <td>10</td>\n",
       "      <td>46.886962</td>\n",
       "      <td>1</td>\n",
       "    </tr>\n",
       "    <tr>\n",
       "      <th>11</th>\n",
       "      <td>x402</td>\n",
       "      <td>Stelasyn</td>\n",
       "      <td>15</td>\n",
       "      <td>49.119948</td>\n",
       "      <td>1</td>\n",
       "    </tr>\n",
       "    <tr>\n",
       "      <th>12</th>\n",
       "      <td>x402</td>\n",
       "      <td>Stelasyn</td>\n",
       "      <td>20</td>\n",
       "      <td>50.414750</td>\n",
       "      <td>2</td>\n",
       "    </tr>\n",
       "    <tr>\n",
       "      <th>13</th>\n",
       "      <td>x402</td>\n",
       "      <td>Stelasyn</td>\n",
       "      <td>25</td>\n",
       "      <td>52.431737</td>\n",
       "      <td>2</td>\n",
       "    </tr>\n",
       "    <tr>\n",
       "      <th>14</th>\n",
       "      <td>x402</td>\n",
       "      <td>Stelasyn</td>\n",
       "      <td>30</td>\n",
       "      <td>54.351585</td>\n",
       "      <td>3</td>\n",
       "    </tr>\n",
       "    <tr>\n",
       "      <th>15</th>\n",
       "      <td>x402</td>\n",
       "      <td>Stelasyn</td>\n",
       "      <td>35</td>\n",
       "      <td>55.240962</td>\n",
       "      <td>3</td>\n",
       "    </tr>\n",
       "    <tr>\n",
       "      <th>16</th>\n",
       "      <td>x402</td>\n",
       "      <td>Stelasyn</td>\n",
       "      <td>40</td>\n",
       "      <td>56.691723</td>\n",
       "      <td>3</td>\n",
       "    </tr>\n",
       "    <tr>\n",
       "      <th>17</th>\n",
       "      <td>x402</td>\n",
       "      <td>Stelasyn</td>\n",
       "      <td>45</td>\n",
       "      <td>61.619606</td>\n",
       "      <td>3</td>\n",
       "    </tr>\n",
       "  </tbody>\n",
       "</table>\n",
       "</div>"
      ],
      "text/plain": [
       "   Mouse ID      Drug  Timepoint  Tumor Volume (mm3)  Metastatic Sites\n",
       "0      f234  Stelasyn          0           45.000000                 0\n",
       "1      f234  Stelasyn          5           47.313491                 0\n",
       "2      f234  Stelasyn         10           47.904324                 0\n",
       "3      f234  Stelasyn         15           48.735197                 1\n",
       "4      f234  Stelasyn         20           51.112713                 2\n",
       "5      f234  Stelasyn         25           52.178602                 2\n",
       "6      f234  Stelasyn         30           56.873817                 2\n",
       "7      f234  Stelasyn         35           57.748758                 2\n",
       "8      x402  Stelasyn          0           45.000000                 0\n",
       "9      x402  Stelasyn          5           46.327570                 1\n",
       "10     x402  Stelasyn         10           46.886962                 1\n",
       "11     x402  Stelasyn         15           49.119948                 1\n",
       "12     x402  Stelasyn         20           50.414750                 2\n",
       "13     x402  Stelasyn         25           52.431737                 2\n",
       "14     x402  Stelasyn         30           54.351585                 3\n",
       "15     x402  Stelasyn         35           55.240962                 3\n",
       "16     x402  Stelasyn         40           56.691723                 3\n",
       "17     x402  Stelasyn         45           61.619606                 3"
      ]
     },
     "execution_count": 6,
     "metadata": {},
     "output_type": "execute_result"
    }
   ],
   "source": [
    "# Dependencies and Setup\n",
    "%matplotlib inline\n",
    "import matplotlib.pyplot as plt\n",
    "import pandas as pd\n",
    "import numpy as np\n",
    "\n",
    "# Hide warning messages in notebook\n",
    "import warnings\n",
    "warnings.filterwarnings('ignore')\n",
    "\n",
    "# File to Load (Remember to Change These)\n",
    "mouse_drug_data_to_load = \"mouse_drug_data.csv\"\n",
    "clinical_trial_data_to_load = \"clinicaltrial_data.csv\"\n",
    "\n",
    "# Read the Mouse and Drug Data and the Clinical Trial Data\n",
    "mouse_drug_data_pd = pd.read_csv(mouse_drug_data_to_load)\n",
    "#print(mouse_drug_data_pd)\n",
    "\n",
    "clinical_trial_data_pd = pd.read_csv(clinical_trial_data_to_load)\n",
    "#print(clinical_trial_data_pd)\n",
    "\n",
    "host_drug_trial_data_pd = pd.merge(mouse_drug_data_pd, clinical_trial_data_pd, on=\"Mouse ID\")\n",
    "\n",
    "# Break the data into Drug datasets\n",
    "drug_list = list(set(mouse_drug_data_pd['Drug']))\n",
    "drug_count = len(drug_list)\n",
    "#print(drug_list)\n",
    "drug_trial_data_df = pd.DataFrame(host_drug_trial_data_pd)\n",
    "drug_trial_data = drug_trial_data_df[\"Mouse ID\"].value_counts()\n",
    "\n",
    "mouse_drug_data_df = pd.DataFrame(mouse_drug_data_pd)\n",
    "\n",
    "clinical_trial_data_df = pd.DataFrame(clinical_trial_data_pd)\n",
    "trial_data = clinical_trial_data_df[\"Mouse ID\"].value_counts()\n",
    "trial_duration = clinical_trial_data_df[\"Timepoint\"].max()\n",
    "unique_trial_intervals_df = clinical_trial_data_df.drop_duplicates([\"Timepoint\"])\n",
    "trial_intervals = unique_trial_intervals_df[\"Timepoint\"].count()\n",
    "test_interval = int(trial_duration / (trial_intervals - 1))\n",
    "\n",
    "initial_volume = int(clinical_trial_data_df[\"Tumor Volume (mm3)\"].mode())\n",
    "initial_volume = \"{0:0,.2f}\".format(initial_volume)\n",
    "minimum_final_volume = clinical_trial_data_df[\"Tumor Volume (mm3)\"].min()\n",
    "minimum_final_volume = \"{0:0,.2f}\".format(minimum_final_volume)\n",
    "mean_final_volume = clinical_trial_data_df[\"Tumor Volume (mm3)\"].mean()\n",
    "mean_final_volume = \"{0:0,.2f}\".format(mean_final_volume)\n",
    "maximum_final_volume = clinical_trial_data_df[\"Tumor Volume (mm3)\"].max()\n",
    "maximum_final_volume = \"{0:0,.2f}\".format(maximum_final_volume)\n",
    "\n",
    "\n",
    "# Display trial overview\n",
    "print(\"Pymaceuticals Inc - Squamous Cell Carcinoma (SCC) Study Drug Trials\")\n",
    "print(\"___________________________________________________________________\\n\")\n",
    "print(f\"Drug Name Hosts Tested\")\n",
    "print(\"_________ ____________\")\n",
    "print(mouse_drug_data_df['Drug'].value_counts())\n",
    "\n",
    "mouse_list = list(set(mouse_drug_data_pd['Mouse ID']))\n",
    "mouse_count = len(mouse_list) + 1\n",
    "print(\"______________________\")\n",
    "print(f\"Trial Drug Count: {drug_count}\")\n",
    "print(f\"Total Hosts Tested: {mouse_count}\\n\")\n",
    "\n",
    "print(\"Trial Start Conditions\")\n",
    "print(\"______________________\")\n",
    "print(f\"Initial Tumor Volume (mm3) @ Time Point Zero: {initial_volume}\")\n",
    "print(f\"Time Point Test Interval (days): {test_interval}\\n\")\n",
    "\n",
    "print(\"Trial End Conditions\")\n",
    "print(\"____________________\")\n",
    "print(f\"Time Point Tests Per Drug Trial (Max Intervals): {trial_intervals}\")\n",
    "print(f\"Trial Duration (Max Days): {trial_duration}\")\n",
    "print(f\"Minimum Final Tumor Volume (mm3): {minimum_final_volume}\")\n",
    "print(f\"Mean Final Tumor Volume (mm3): {mean_final_volume}\")\n",
    "print(f\"Maximum Final Tumor Volume (mm3): {maximum_final_volume}\")\n",
    "print(\"\")\n",
    "print(f\"Hosts Exceeding Maximum Number of {trial_intervals} Interval Tests:\")\n",
    "print(f\"HostID #Tests\")\n",
    "print(\"______ ______\")\n",
    "print(trial_data.head(1))\n",
    "print(\"Host Tests Rejected\\n\")\n",
    "print(\"Drug Trial Results\")\n",
    "print(\"__________________\")\n",
    "drug_trial_data_df.head(18)"
   ]
  },
  {
   "cell_type": "markdown",
   "metadata": {},
   "source": [
    "## Tumor Response to Treatment"
   ]
  },
  {
   "cell_type": "code",
   "execution_count": null,
   "metadata": {},
   "outputs": [],
   "source": [
    "# Store the Mean Tumor Volume Data Grouped by Drug and Timepoint \n",
    "\n",
    "# Convert to DataFrame\n",
    "\n",
    "# Preview DataFrame\n"
   ]
  },
  {
   "cell_type": "code",
   "execution_count": null,
   "metadata": {
    "scrolled": true
   },
   "outputs": [],
   "source": []
  },
  {
   "cell_type": "code",
   "execution_count": null,
   "metadata": {},
   "outputs": [],
   "source": [
    "# Store the Standard Error of Tumor Volumes Grouped by Drug and Timepoint\n",
    "\n",
    "# Convert to DataFrame\n",
    "\n",
    "# Preview DataFrame\n",
    "\n"
   ]
  },
  {
   "cell_type": "code",
   "execution_count": null,
   "metadata": {},
   "outputs": [],
   "source": []
  },
  {
   "cell_type": "code",
   "execution_count": null,
   "metadata": {},
   "outputs": [],
   "source": [
    "# Minor Data Munging to Re-Format the Data Frames\n",
    "\n",
    "# Preview that Reformatting worked\n"
   ]
  },
  {
   "cell_type": "code",
   "execution_count": null,
   "metadata": {
    "scrolled": true
   },
   "outputs": [],
   "source": []
  },
  {
   "cell_type": "code",
   "execution_count": null,
   "metadata": {},
   "outputs": [],
   "source": [
    "# Generate the Plot (with Error Bars)\n",
    "\n",
    "# Save the Figure\n",
    "\n"
   ]
  },
  {
   "cell_type": "code",
   "execution_count": null,
   "metadata": {},
   "outputs": [],
   "source": [
    "# Show the Figure\n",
    "plt.show()"
   ]
  },
  {
   "cell_type": "markdown",
   "metadata": {},
   "source": [
    "## Metastatic Response to Treatment"
   ]
  },
  {
   "cell_type": "code",
   "execution_count": null,
   "metadata": {},
   "outputs": [],
   "source": [
    "# Store the Mean Met. Site Data Grouped by Drug and Timepoint \n",
    "\n",
    "# Convert to DataFrame\n",
    "\n",
    "# Preview DataFrame\n"
   ]
  },
  {
   "cell_type": "code",
   "execution_count": null,
   "metadata": {},
   "outputs": [],
   "source": []
  },
  {
   "cell_type": "code",
   "execution_count": null,
   "metadata": {},
   "outputs": [],
   "source": [
    "# Store the Standard Error associated with Met. Sites Grouped by Drug and Timepoint \n",
    "\n",
    "# Convert to DataFrame\n",
    "\n",
    "# Preview DataFrame\n"
   ]
  },
  {
   "cell_type": "code",
   "execution_count": null,
   "metadata": {},
   "outputs": [],
   "source": []
  },
  {
   "cell_type": "code",
   "execution_count": null,
   "metadata": {},
   "outputs": [],
   "source": [
    "# Minor Data Munging to Re-Format the Data Frames\n",
    "\n",
    "# Preview that Reformatting worked\n"
   ]
  },
  {
   "cell_type": "code",
   "execution_count": null,
   "metadata": {
    "scrolled": true
   },
   "outputs": [],
   "source": []
  },
  {
   "cell_type": "code",
   "execution_count": null,
   "metadata": {},
   "outputs": [],
   "source": [
    "# Generate the Plot (with Error Bars)\n",
    "\n",
    "# Save the Figure\n",
    "\n",
    "# Show the Figure\n"
   ]
  },
  {
   "cell_type": "code",
   "execution_count": null,
   "metadata": {},
   "outputs": [],
   "source": []
  },
  {
   "cell_type": "markdown",
   "metadata": {},
   "source": [
    "## Survival Rates"
   ]
  },
  {
   "cell_type": "code",
   "execution_count": null,
   "metadata": {},
   "outputs": [],
   "source": [
    "# Store the Count of Mice Grouped by Drug and Timepoint (W can pass any metric)\n",
    "\n",
    "# Convert to DataFrame\n",
    "\n",
    "# Preview DataFrame\n"
   ]
  },
  {
   "cell_type": "code",
   "execution_count": null,
   "metadata": {},
   "outputs": [],
   "source": []
  },
  {
   "cell_type": "code",
   "execution_count": null,
   "metadata": {},
   "outputs": [],
   "source": [
    "# Minor Data Munging to Re-Format the Data Frames\n",
    "\n",
    "# Preview the Data Frame\n"
   ]
  },
  {
   "cell_type": "code",
   "execution_count": null,
   "metadata": {
    "scrolled": true
   },
   "outputs": [],
   "source": []
  },
  {
   "cell_type": "code",
   "execution_count": null,
   "metadata": {},
   "outputs": [],
   "source": [
    "# Generate the Plot (Accounting for percentages)\n",
    "\n",
    "# Save the Figure\n",
    "\n",
    "# Show the Figure\n",
    "plt.show()"
   ]
  },
  {
   "cell_type": "code",
   "execution_count": null,
   "metadata": {},
   "outputs": [],
   "source": []
  },
  {
   "cell_type": "markdown",
   "metadata": {},
   "source": [
    "## Summary Bar Graph"
   ]
  },
  {
   "cell_type": "code",
   "execution_count": null,
   "metadata": {},
   "outputs": [],
   "source": [
    "# Calculate the percent changes for each drug\n",
    "\n",
    "# Display the data to confirm\n"
   ]
  },
  {
   "cell_type": "code",
   "execution_count": null,
   "metadata": {},
   "outputs": [],
   "source": []
  },
  {
   "cell_type": "code",
   "execution_count": null,
   "metadata": {},
   "outputs": [],
   "source": [
    "# Store all Relevant Percent Changes into a Tuple\n",
    "\n",
    "\n",
    "# Splice the data between passing and failing drugs\n",
    "\n",
    "\n",
    "# Orient widths. Add labels, tick marks, etc. \n",
    "\n",
    "\n",
    "# Use functions to label the percentages of changes\n",
    "\n",
    "\n",
    "# Call functions to implement the function calls\n",
    "\n",
    "\n",
    "# Save the Figure\n",
    "\n",
    "\n",
    "# Show the Figure\n",
    "fig.show()"
   ]
  },
  {
   "cell_type": "code",
   "execution_count": null,
   "metadata": {},
   "outputs": [],
   "source": []
  },
  {
   "cell_type": "code",
   "execution_count": null,
   "metadata": {},
   "outputs": [],
   "source": []
  }
 ],
 "metadata": {
  "anaconda-cloud": {},
  "kernelspec": {
   "display_name": "Python [conda env:PythonData2]",
   "language": "python",
   "name": "conda-env-PythonData2-py"
  },
  "language_info": {
   "codemirror_mode": {
    "name": "ipython",
    "version": 3
   },
   "file_extension": ".py",
   "mimetype": "text/x-python",
   "name": "python",
   "nbconvert_exporter": "python",
   "pygments_lexer": "ipython3",
   "version": "3.6.7"
  }
 },
 "nbformat": 4,
 "nbformat_minor": 1
}
